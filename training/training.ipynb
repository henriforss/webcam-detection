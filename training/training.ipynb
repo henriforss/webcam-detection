{
 "cells": [
  {
   "cell_type": "code",
   "execution_count": 8,
   "metadata": {},
   "outputs": [
    {
     "name": "stdout",
     "output_type": "stream",
     "text": [
      "Requirement already satisfied: ultralytics in /Users/forsshe/Desktop/Projektit/testi/webcam-detection/.venv/lib/python3.11/site-packages (8.2.45)\n",
      "Requirement already satisfied: numpy<2.0.0,>=1.23.5 in /Users/forsshe/Desktop/Projektit/testi/webcam-detection/.venv/lib/python3.11/site-packages (from ultralytics) (1.26.4)\n",
      "Requirement already satisfied: matplotlib>=3.3.0 in /Users/forsshe/Desktop/Projektit/testi/webcam-detection/.venv/lib/python3.11/site-packages (from ultralytics) (3.9.0)\n",
      "Requirement already satisfied: opencv-python>=4.6.0 in /Users/forsshe/Desktop/Projektit/testi/webcam-detection/.venv/lib/python3.11/site-packages (from ultralytics) (4.10.0.84)\n",
      "Requirement already satisfied: pillow>=7.1.2 in /Users/forsshe/Desktop/Projektit/testi/webcam-detection/.venv/lib/python3.11/site-packages (from ultralytics) (10.3.0)\n",
      "Requirement already satisfied: pyyaml>=5.3.1 in /Users/forsshe/Desktop/Projektit/testi/webcam-detection/.venv/lib/python3.11/site-packages (from ultralytics) (6.0.1)\n",
      "Requirement already satisfied: requests>=2.23.0 in /Users/forsshe/Desktop/Projektit/testi/webcam-detection/.venv/lib/python3.11/site-packages (from ultralytics) (2.32.3)\n",
      "Requirement already satisfied: scipy>=1.4.1 in /Users/forsshe/Desktop/Projektit/testi/webcam-detection/.venv/lib/python3.11/site-packages (from ultralytics) (1.14.0)\n",
      "Requirement already satisfied: torch>=1.8.0 in /Users/forsshe/Desktop/Projektit/testi/webcam-detection/.venv/lib/python3.11/site-packages (from ultralytics) (2.3.1)\n",
      "Requirement already satisfied: torchvision>=0.9.0 in /Users/forsshe/Desktop/Projektit/testi/webcam-detection/.venv/lib/python3.11/site-packages (from ultralytics) (0.18.1)\n",
      "Requirement already satisfied: tqdm>=4.64.0 in /Users/forsshe/Desktop/Projektit/testi/webcam-detection/.venv/lib/python3.11/site-packages (from ultralytics) (4.66.4)\n",
      "Requirement already satisfied: psutil in /Users/forsshe/Desktop/Projektit/testi/webcam-detection/.venv/lib/python3.11/site-packages (from ultralytics) (6.0.0)\n",
      "Requirement already satisfied: py-cpuinfo in /Users/forsshe/Desktop/Projektit/testi/webcam-detection/.venv/lib/python3.11/site-packages (from ultralytics) (9.0.0)\n",
      "Requirement already satisfied: pandas>=1.1.4 in /Users/forsshe/Desktop/Projektit/testi/webcam-detection/.venv/lib/python3.11/site-packages (from ultralytics) (2.2.2)\n",
      "Requirement already satisfied: seaborn>=0.11.0 in /Users/forsshe/Desktop/Projektit/testi/webcam-detection/.venv/lib/python3.11/site-packages (from ultralytics) (0.13.2)\n",
      "Requirement already satisfied: ultralytics-thop>=2.0.0 in /Users/forsshe/Desktop/Projektit/testi/webcam-detection/.venv/lib/python3.11/site-packages (from ultralytics) (2.0.0)\n",
      "Requirement already satisfied: contourpy>=1.0.1 in /Users/forsshe/Desktop/Projektit/testi/webcam-detection/.venv/lib/python3.11/site-packages (from matplotlib>=3.3.0->ultralytics) (1.2.1)\n",
      "Requirement already satisfied: cycler>=0.10 in /Users/forsshe/Desktop/Projektit/testi/webcam-detection/.venv/lib/python3.11/site-packages (from matplotlib>=3.3.0->ultralytics) (0.12.1)\n",
      "Requirement already satisfied: fonttools>=4.22.0 in /Users/forsshe/Desktop/Projektit/testi/webcam-detection/.venv/lib/python3.11/site-packages (from matplotlib>=3.3.0->ultralytics) (4.53.0)\n",
      "Requirement already satisfied: kiwisolver>=1.3.1 in /Users/forsshe/Desktop/Projektit/testi/webcam-detection/.venv/lib/python3.11/site-packages (from matplotlib>=3.3.0->ultralytics) (1.4.5)\n",
      "Requirement already satisfied: packaging>=20.0 in /Users/forsshe/Desktop/Projektit/testi/webcam-detection/.venv/lib/python3.11/site-packages (from matplotlib>=3.3.0->ultralytics) (24.1)\n",
      "Requirement already satisfied: pyparsing>=2.3.1 in /Users/forsshe/Desktop/Projektit/testi/webcam-detection/.venv/lib/python3.11/site-packages (from matplotlib>=3.3.0->ultralytics) (3.1.2)\n",
      "Requirement already satisfied: python-dateutil>=2.7 in /Users/forsshe/Desktop/Projektit/testi/webcam-detection/.venv/lib/python3.11/site-packages (from matplotlib>=3.3.0->ultralytics) (2.9.0.post0)\n",
      "Requirement already satisfied: pytz>=2020.1 in /Users/forsshe/Desktop/Projektit/testi/webcam-detection/.venv/lib/python3.11/site-packages (from pandas>=1.1.4->ultralytics) (2024.1)\n",
      "Requirement already satisfied: tzdata>=2022.7 in /Users/forsshe/Desktop/Projektit/testi/webcam-detection/.venv/lib/python3.11/site-packages (from pandas>=1.1.4->ultralytics) (2024.1)\n",
      "Requirement already satisfied: charset-normalizer<4,>=2 in /Users/forsshe/Desktop/Projektit/testi/webcam-detection/.venv/lib/python3.11/site-packages (from requests>=2.23.0->ultralytics) (3.3.2)\n",
      "Requirement already satisfied: idna<4,>=2.5 in /Users/forsshe/Desktop/Projektit/testi/webcam-detection/.venv/lib/python3.11/site-packages (from requests>=2.23.0->ultralytics) (3.7)\n",
      "Requirement already satisfied: urllib3<3,>=1.21.1 in /Users/forsshe/Desktop/Projektit/testi/webcam-detection/.venv/lib/python3.11/site-packages (from requests>=2.23.0->ultralytics) (2.2.2)\n",
      "Requirement already satisfied: certifi>=2017.4.17 in /Users/forsshe/Desktop/Projektit/testi/webcam-detection/.venv/lib/python3.11/site-packages (from requests>=2.23.0->ultralytics) (2024.6.2)\n",
      "Requirement already satisfied: filelock in /Users/forsshe/Desktop/Projektit/testi/webcam-detection/.venv/lib/python3.11/site-packages (from torch>=1.8.0->ultralytics) (3.15.4)\n",
      "Requirement already satisfied: typing-extensions>=4.8.0 in /Users/forsshe/Desktop/Projektit/testi/webcam-detection/.venv/lib/python3.11/site-packages (from torch>=1.8.0->ultralytics) (4.12.2)\n",
      "Requirement already satisfied: sympy in /Users/forsshe/Desktop/Projektit/testi/webcam-detection/.venv/lib/python3.11/site-packages (from torch>=1.8.0->ultralytics) (1.12.1)\n",
      "Requirement already satisfied: networkx in /Users/forsshe/Desktop/Projektit/testi/webcam-detection/.venv/lib/python3.11/site-packages (from torch>=1.8.0->ultralytics) (3.3)\n",
      "Requirement already satisfied: jinja2 in /Users/forsshe/Desktop/Projektit/testi/webcam-detection/.venv/lib/python3.11/site-packages (from torch>=1.8.0->ultralytics) (3.1.4)\n",
      "Requirement already satisfied: fsspec in /Users/forsshe/Desktop/Projektit/testi/webcam-detection/.venv/lib/python3.11/site-packages (from torch>=1.8.0->ultralytics) (2024.6.1)\n",
      "Requirement already satisfied: six>=1.5 in /Users/forsshe/Desktop/Projektit/testi/webcam-detection/.venv/lib/python3.11/site-packages (from python-dateutil>=2.7->matplotlib>=3.3.0->ultralytics) (1.16.0)\n",
      "Requirement already satisfied: MarkupSafe>=2.0 in /Users/forsshe/Desktop/Projektit/testi/webcam-detection/.venv/lib/python3.11/site-packages (from jinja2->torch>=1.8.0->ultralytics) (2.1.5)\n",
      "Requirement already satisfied: mpmath<1.4.0,>=1.1.0 in /Users/forsshe/Desktop/Projektit/testi/webcam-detection/.venv/lib/python3.11/site-packages (from sympy->torch>=1.8.0->ultralytics) (1.3.0)\n",
      "\n",
      "\u001b[1m[\u001b[0m\u001b[34;49mnotice\u001b[0m\u001b[1;39;49m]\u001b[0m\u001b[39;49m A new release of pip is available: \u001b[0m\u001b[31;49m24.0\u001b[0m\u001b[39;49m -> \u001b[0m\u001b[32;49m24.1.1\u001b[0m\n",
      "\u001b[1m[\u001b[0m\u001b[34;49mnotice\u001b[0m\u001b[1;39;49m]\u001b[0m\u001b[39;49m To update, run: \u001b[0m\u001b[32;49mpip install --upgrade pip\u001b[0m\n",
      "Note: you may need to restart the kernel to use updated packages.\n",
      "Requirement already satisfied: roboflow in /Users/forsshe/Desktop/Projektit/testi/webcam-detection/.venv/lib/python3.11/site-packages (1.1.33)\n",
      "Requirement already satisfied: certifi in /Users/forsshe/Desktop/Projektit/testi/webcam-detection/.venv/lib/python3.11/site-packages (from roboflow) (2024.6.2)\n",
      "Requirement already satisfied: chardet==4.0.0 in /Users/forsshe/Desktop/Projektit/testi/webcam-detection/.venv/lib/python3.11/site-packages (from roboflow) (4.0.0)\n",
      "Requirement already satisfied: idna==3.7 in /Users/forsshe/Desktop/Projektit/testi/webcam-detection/.venv/lib/python3.11/site-packages (from roboflow) (3.7)\n",
      "Requirement already satisfied: cycler in /Users/forsshe/Desktop/Projektit/testi/webcam-detection/.venv/lib/python3.11/site-packages (from roboflow) (0.12.1)\n",
      "Requirement already satisfied: kiwisolver>=1.3.1 in /Users/forsshe/Desktop/Projektit/testi/webcam-detection/.venv/lib/python3.11/site-packages (from roboflow) (1.4.5)\n",
      "Requirement already satisfied: matplotlib in /Users/forsshe/Desktop/Projektit/testi/webcam-detection/.venv/lib/python3.11/site-packages (from roboflow) (3.9.0)\n",
      "Requirement already satisfied: numpy>=1.18.5 in /Users/forsshe/Desktop/Projektit/testi/webcam-detection/.venv/lib/python3.11/site-packages (from roboflow) (1.26.4)\n",
      "Requirement already satisfied: opencv-python-headless==4.10.0.84 in /Users/forsshe/Desktop/Projektit/testi/webcam-detection/.venv/lib/python3.11/site-packages (from roboflow) (4.10.0.84)\n",
      "Requirement already satisfied: Pillow>=7.1.2 in /Users/forsshe/Desktop/Projektit/testi/webcam-detection/.venv/lib/python3.11/site-packages (from roboflow) (10.3.0)\n",
      "Requirement already satisfied: python-dateutil in /Users/forsshe/Desktop/Projektit/testi/webcam-detection/.venv/lib/python3.11/site-packages (from roboflow) (2.9.0.post0)\n",
      "Requirement already satisfied: python-dotenv in /Users/forsshe/Desktop/Projektit/testi/webcam-detection/.venv/lib/python3.11/site-packages (from roboflow) (1.0.1)\n",
      "Requirement already satisfied: requests in /Users/forsshe/Desktop/Projektit/testi/webcam-detection/.venv/lib/python3.11/site-packages (from roboflow) (2.32.3)\n",
      "Requirement already satisfied: six in /Users/forsshe/Desktop/Projektit/testi/webcam-detection/.venv/lib/python3.11/site-packages (from roboflow) (1.16.0)\n",
      "Requirement already satisfied: urllib3>=1.26.6 in /Users/forsshe/Desktop/Projektit/testi/webcam-detection/.venv/lib/python3.11/site-packages (from roboflow) (2.2.2)\n",
      "Requirement already satisfied: tqdm>=4.41.0 in /Users/forsshe/Desktop/Projektit/testi/webcam-detection/.venv/lib/python3.11/site-packages (from roboflow) (4.66.4)\n",
      "Requirement already satisfied: PyYAML>=5.3.1 in /Users/forsshe/Desktop/Projektit/testi/webcam-detection/.venv/lib/python3.11/site-packages (from roboflow) (6.0.1)\n",
      "Requirement already satisfied: requests-toolbelt in /Users/forsshe/Desktop/Projektit/testi/webcam-detection/.venv/lib/python3.11/site-packages (from roboflow) (1.0.0)\n",
      "Requirement already satisfied: python-magic in /Users/forsshe/Desktop/Projektit/testi/webcam-detection/.venv/lib/python3.11/site-packages (from roboflow) (0.4.27)\n",
      "Requirement already satisfied: contourpy>=1.0.1 in /Users/forsshe/Desktop/Projektit/testi/webcam-detection/.venv/lib/python3.11/site-packages (from matplotlib->roboflow) (1.2.1)\n",
      "Requirement already satisfied: fonttools>=4.22.0 in /Users/forsshe/Desktop/Projektit/testi/webcam-detection/.venv/lib/python3.11/site-packages (from matplotlib->roboflow) (4.53.0)\n",
      "Requirement already satisfied: packaging>=20.0 in /Users/forsshe/Desktop/Projektit/testi/webcam-detection/.venv/lib/python3.11/site-packages (from matplotlib->roboflow) (24.1)\n",
      "Requirement already satisfied: pyparsing>=2.3.1 in /Users/forsshe/Desktop/Projektit/testi/webcam-detection/.venv/lib/python3.11/site-packages (from matplotlib->roboflow) (3.1.2)\n",
      "Requirement already satisfied: charset-normalizer<4,>=2 in /Users/forsshe/Desktop/Projektit/testi/webcam-detection/.venv/lib/python3.11/site-packages (from requests->roboflow) (3.3.2)\n",
      "\n",
      "\u001b[1m[\u001b[0m\u001b[34;49mnotice\u001b[0m\u001b[1;39;49m]\u001b[0m\u001b[39;49m A new release of pip is available: \u001b[0m\u001b[31;49m24.0\u001b[0m\u001b[39;49m -> \u001b[0m\u001b[32;49m24.1.1\u001b[0m\n",
      "\u001b[1m[\u001b[0m\u001b[34;49mnotice\u001b[0m\u001b[1;39;49m]\u001b[0m\u001b[39;49m To update, run: \u001b[0m\u001b[32;49mpip install --upgrade pip\u001b[0m\n",
      "Note: you may need to restart the kernel to use updated packages.\n"
     ]
    }
   ],
   "source": [
    "%pip install ultralytics\n",
    "%pip install roboflow"
   ]
  },
  {
   "cell_type": "code",
   "execution_count": 9,
   "metadata": {},
   "outputs": [
    {
     "name": "stdout",
     "output_type": "stream",
     "text": [
      "loading Roboflow workspace...\n",
      "loading Roboflow project...\n",
      "Dependency ultralytics==8.0.196 is required but found version=8.2.45, to fix: `pip install ultralytics==8.0.196`\n"
     ]
    },
    {
     "name": "stderr",
     "output_type": "stream",
     "text": [
      "Downloading Dataset Version Zip in face-detection-1 to yolov8:: 100%|██████████| 2234/2234 [00:01<00:00, 2217.56it/s]"
     ]
    },
    {
     "name": "stdout",
     "output_type": "stream",
     "text": [
      "\n"
     ]
    },
    {
     "name": "stderr",
     "output_type": "stream",
     "text": [
      "\n",
      "Extracting Dataset Version Zip to face-detection-1 in yolov8:: 100%|██████████| 207/207 [00:00<00:00, 1902.33it/s]\n"
     ]
    }
   ],
   "source": [
    "from roboflow import Roboflow\n",
    "\n",
    "rf = Roboflow(api_key=\"Y38Baz6W2SuXGnBkDb2l\")\n",
    "project = rf.workspace(\"tuomari\").project(\"face-detection-ynmgf\")\n",
    "version = project.version(1)\n",
    "dataset = version.download(\"yolov8\")"
   ]
  },
  {
   "cell_type": "code",
   "execution_count": 10,
   "metadata": {},
   "outputs": [
    {
     "data": {
      "text/plain": [
       "'/Users/forsshe/Desktop/Projektit/testi/webcam-detection/training/face-detection-1'"
      ]
     },
     "execution_count": 10,
     "metadata": {},
     "output_type": "execute_result"
    }
   ],
   "source": [
    "dataset.location"
   ]
  },
  {
   "cell_type": "code",
   "execution_count": 11,
   "metadata": {},
   "outputs": [
    {
     "data": {
      "text/plain": [
       "'face-detection-1'"
      ]
     },
     "execution_count": 11,
     "metadata": {},
     "output_type": "execute_result"
    }
   ],
   "source": [
    "folder_name = dataset.location.split(\"/\")[-1]\n",
    "folder_name"
   ]
  },
  {
   "cell_type": "code",
   "execution_count": null,
   "metadata": {},
   "outputs": [],
   "source": [
    "import shutil\n",
    "\n",
    "shutil.move(f'{dataset.location}/test',\n",
    "            f'{dataset.location}/face-detection-1/test')\n",
    "shutil.move(f'{dataset.location}/train',\n",
    "            f'{dataset.location}/face-detection-1/train')\n",
    "shutil.move(f'{dataset.location}/valid',\n",
    "            f'{dataset.location}/face-detection-1/valid')"
   ]
  },
  {
   "cell_type": "code",
   "execution_count": null,
   "metadata": {},
   "outputs": [],
   "source": [
    "from ultralytics import YOLO\n",
    "\n",
    "model = YOLO('yolov8n')\n",
    "results = model.train(\n",
    "    data=f'{dataset.location}/data.yaml', epochs=100, imgsz=640)"
   ]
  },
  {
   "cell_type": "code",
   "execution_count": null,
   "metadata": {},
   "outputs": [],
   "source": []
  }
 ],
 "metadata": {
  "kernelspec": {
   "display_name": ".venv",
   "language": "python",
   "name": "python3"
  },
  "language_info": {
   "codemirror_mode": {
    "name": "ipython",
    "version": 3
   },
   "file_extension": ".py",
   "mimetype": "text/x-python",
   "name": "python",
   "nbconvert_exporter": "python",
   "pygments_lexer": "ipython3",
   "version": "3.11.9"
  }
 },
 "nbformat": 4,
 "nbformat_minor": 2
}
